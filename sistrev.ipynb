{
 "cells": [
  {
   "cell_type": "markdown",
   "id": "8bb7d66e6c4df561",
   "metadata": {
    "collapsed": false
   },
   "source": [
    "# Web Scraper for Systematic Reviews"
   ]
  },
  {
   "cell_type": "code",
   "outputs": [],
   "source": [
    "import os\n",
    "\n",
    "temp_folder = os.getenv(\"temp\") + '\\\\SistRev\\\\'\n",
    "os.makedirs(temp_folder, exist_ok=True)"
   ],
   "metadata": {
    "collapsed": false,
    "ExecuteTime": {
     "end_time": "2024-05-02T15:01:16.520450Z",
     "start_time": "2024-05-02T15:01:16.512126Z"
    }
   },
   "id": "ab085db1d1bcd4f2",
   "execution_count": 1
  },
  {
   "cell_type": "markdown",
   "source": [
    "## Keywords to search"
   ],
   "metadata": {
    "collapsed": false
   },
   "id": "a8ef2dc69ac74e7b"
  },
  {
   "cell_type": "code",
   "outputs": [],
   "source": [
    "# Add keywords / terms to this list to search\n",
    "search_list = ['webscraping', 'asreview', 'GECAD ISEP']"
   ],
   "metadata": {
    "collapsed": false,
    "ExecuteTime": {
     "end_time": "2024-05-02T15:01:16.532374Z",
     "start_time": "2024-05-02T15:01:16.524746Z"
    }
   },
   "id": "14d7986b7d5a0b6e",
   "execution_count": 2
  },
  {
   "cell_type": "markdown",
   "source": [
    "## Metadata Scraper"
   ],
   "metadata": {
    "collapsed": false
   },
   "id": "dc22e63b7af69678"
  },
  {
   "cell_type": "code",
   "outputs": [
    {
     "name": "stdout",
     "output_type": "stream",
     "text": [
      "External IP is 193.136.62.5, which belongs to the range assigned to IPP (193.136.56.0/21)\n",
      "We are on webscraping (All Fields) – 28 – Web of Science Core Collection\n",
      "Number of articles:  28\n",
      "Downloading the metadata (1 to 1000)...  (DONE)\n",
      "External IP is 193.136.62.5, which belongs to the range assigned to IPP (193.136.56.0/21)\n",
      "We are on asreview (All Fields) – 26 – Web of Science Core Collection\n",
      "Number of articles:  26\n",
      "Downloading the metadata (1 to 1000)...  (DONE)\n",
      "External IP is 193.136.62.5, which belongs to the range assigned to IPP (193.136.56.0/21)\n",
      "We are on GECAD ISEP (All Fields) – 473 – Web of Science Core Collection\n",
      "Number of articles:  473\n",
      "Downloading the metadata (1 to 1000)...  (DONE)\n"
     ]
    }
   ],
   "source": [
    "from metadataScraper import metadataScraper\n",
    "\n",
    "files = []\n",
    "\n",
    "scraper = metadataScraper(download_path=temp_folder)\n",
    "for search in search_list:\n",
    "    scraped = scraper.scrape(search)    # returns a list if more than 1000 results found\n",
    "    \n",
    "    for file in scraped:\n",
    "        files.append(file)\n",
    "    \n",
    "scraper.quit_driver()\n",
    "    "
   ],
   "metadata": {
    "collapsed": false,
    "ExecuteTime": {
     "end_time": "2024-05-02T15:02:08.208121Z",
     "start_time": "2024-05-02T15:01:16.536978Z"
    }
   },
   "id": "2c13c2f1b38daa9a",
   "execution_count": 3
  },
  {
   "cell_type": "markdown",
   "source": [
    "## Data Cleaner"
   ],
   "metadata": {
    "collapsed": false
   },
   "id": "729d64051ff4965e"
  },
  {
   "cell_type": "code",
   "execution_count": 4,
   "id": "8f18ef21f95fc014",
   "metadata": {
    "collapsed": false,
    "ExecuteTime": {
     "end_time": "2024-05-02T15:02:08.964726Z",
     "start_time": "2024-05-02T15:02:08.213001Z"
    }
   },
   "outputs": [
    {
     "name": "stdout",
     "output_type": "stream",
     "text": [
      "Added all files\n",
      "Total number of articles imported: 527\n"
     ]
    }
   ],
   "source": [
    "from datacleaner import DataCleaner\n",
    "\n",
    "cleaner = DataCleaner()\n",
    "\n",
    "# This will be handled by metadata scraper \n",
    "data_files_path = ['testdata/no-title.ris', 'testdata/artf-intl-wos.ris']\n",
    "\n",
    "for file in files:\n",
    "    cleaner.add_file(file)\n",
    "    \n",
    "print('Added all files')\n",
    "print(f'Total number of articles imported: {cleaner.count_in_entries()}')"
   ]
  },
  {
   "cell_type": "code",
   "execution_count": 5,
   "id": "7822ab8009c6d989",
   "metadata": {
    "collapsed": false,
    "ExecuteTime": {
     "end_time": "2024-05-02T15:02:09.013213Z",
     "start_time": "2024-05-02T15:02:08.967780Z"
    }
   },
   "outputs": [
    {
     "name": "stdout",
     "output_type": "stream",
     "text": [
      "Number of duplicated entries: 0\n",
      "Number of entries without title: 0\n",
      "Number of entries without abstract: 7\n",
      "Number of entries without doi: 203\n",
      "Number of entries after cleanup: 317\n"
     ]
    }
   ],
   "source": [
    "n_dup, n_no_title, n_no_abst, n_no_doi = cleaner.clean_entries()\n",
    "\n",
    "print(f'Number of duplicated entries: {n_dup}')\n",
    "print(f'Number of entries without title: {n_no_title}')\n",
    "print(f'Number of entries without abstract: {n_no_abst}')\n",
    "print(f'Number of entries without doi: {n_no_doi}')\n",
    "print(f'Number of entries after cleanup: {cleaner.count_out_entries()}')"
   ]
  },
  {
   "cell_type": "code",
   "execution_count": 6,
   "id": "c20aaaf5a214559d",
   "metadata": {
    "collapsed": false,
    "ExecuteTime": {
     "end_time": "2024-05-02T15:02:09.915838Z",
     "start_time": "2024-05-02T15:02:09.017247Z"
    }
   },
   "outputs": [
    {
     "data": {
      "text/plain": "<Axes: title={'center': 'Data Split after Cleanup'}>"
     },
     "execution_count": 6,
     "metadata": {},
     "output_type": "execute_result"
    },
    {
     "data": {
      "text/plain": "<Figure size 600x600 with 1 Axes>",
      "image/png": "[encoded data removed]"
     },
     "metadata": {},
     "output_type": "display_data"
    }
   ],
   "source": [
    "from pandas import Series\n",
    "\n",
    "ser = Series([cleaner.count_out_entries(), n_dup, n_no_title, n_no_abst, n_no_doi], index=['Clean Data', 'Duplicated', 'No Title', 'No Abstract', 'No DOI'])\n",
    "\n",
    "ser.plot(kind='pie', title='Data Split after Cleanup', figsize=(6,6), \n",
    "         fontsize='small', autopct=lambda x: '{:.0f}'.format(x * ser.sum() / 100) if x > 0 else '', \n",
    "         labels=None, legend=True)"
   ]
  },
  {
   "cell_type": "code",
   "outputs": [],
   "source": [
    "# Output file\n",
    "cleaner.export_data(path=temp_folder)"
   ],
   "metadata": {
    "collapsed": false,
    "ExecuteTime": {
     "end_time": "2024-05-02T15:02:09.979464Z",
     "start_time": "2024-05-02T15:02:09.918773Z"
    }
   },
   "id": "d59ff3cd900b3260",
   "execution_count": 7
  },
  {
   "cell_type": "markdown",
   "source": [
    "## ASREVIEW"
   ],
   "metadata": {
    "collapsed": false
   },
   "id": "47d0ccaa68980d4"
  },
  {
   "cell_type": "markdown",
   "id": "670ec53ac9ea07e0",
   "metadata": {
    "collapsed": false
   },
   "source": [
    "## PDF Scraper"
   ]
  }
 ],
 "metadata": {
  "kernelspec": {
   "display_name": "Python 3 (ipykernel)",
   "language": "python",
   "name": "python3"
  },
  "language_info": {
   "codemirror_mode": {
    "name": "ipython",
    "version": 3
   },
   "file_extension": ".py",
   "mimetype": "text/x-python",
   "name": "python",
   "nbconvert_exporter": "python",
   "pygments_lexer": "ipython3",
   "version": "3.12.0"
  }
 },
 "nbformat": 4,
 "nbformat_minor": 5
}
