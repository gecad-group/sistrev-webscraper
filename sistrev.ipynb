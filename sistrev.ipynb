{
 "cells": [
  {
   "cell_type": "markdown",
   "source": [
    "# Web Scraper for Systematic Reviews"
   ],
   "metadata": {
    "collapsed": false
   },
   "id": "8bb7d66e6c4df561"
  },
  {
   "cell_type": "markdown",
   "source": [
    "### Pre-run checks (Allways run before anything else)"
   ],
   "metadata": {
    "collapsed": false
   },
   "id": "aaacad0e1fe80c51"
  },
  {
   "cell_type": "code",
   "outputs": [
    {
     "name": "stdout",
     "output_type": "stream",
     "text": [
      "External IP is 193.136.62.5, which belongs to the range assigned to IPP (193.136.56.0/21)\n"
     ]
    }
   ],
   "source": [
    "import prerunchecks\n",
    "\n",
    "prerunchecks.check_network()"
   ],
   "metadata": {
    "collapsed": false,
    "ExecuteTime": {
     "end_time": "2024-03-16T17:50:13.929471Z",
     "start_time": "2024-03-16T17:50:13.302356Z"
    }
   },
   "id": "fb0618347a9bd7e5",
   "execution_count": 2
  },
  {
   "cell_type": "markdown",
   "source": [
    "## Metadata Scraper"
   ],
   "metadata": {
    "collapsed": false
   },
   "id": "dc22e63b7af69678"
  },
  {
   "cell_type": "markdown",
   "source": [
    "## Data Cleaner"
   ],
   "metadata": {
    "collapsed": false
   },
   "id": "729d64051ff4965e"
  },
  {
   "cell_type": "markdown",
   "source": [
    "## PDF Scraper"
   ],
   "metadata": {
    "collapsed": false
   },
   "id": "670ec53ac9ea07e0"
  }
 ],
 "metadata": {
  "kernelspec": {
   "display_name": "Python 3",
   "language": "python",
   "name": "python3"
  },
  "language_info": {
   "codemirror_mode": {
    "name": "ipython",
    "version": 2
   },
   "file_extension": ".py",
   "mimetype": "text/x-python",
   "name": "python",
   "nbconvert_exporter": "python",
   "pygments_lexer": "ipython2",
   "version": "2.7.6"
  }
 },
 "nbformat": 4,
 "nbformat_minor": 5
}
