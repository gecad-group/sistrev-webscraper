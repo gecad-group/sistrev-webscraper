{
 "cells": [
  {
   "cell_type": "markdown",
   "id": "8bb7d66e6c4df561",
   "metadata": {
    "collapsed": false
   },
   "source": [
    "# Web Scraper for Systematic Reviews"
   ]
  },
  {
   "cell_type": "code",
   "execution_count": 1,
   "id": "ab085db1d1bcd4f2",
   "metadata": {
    "collapsed": false,
    "is_executing": true
   },
   "outputs": [],
   "source": [
    "import os\n",
    "\n",
    "temp_folder = os.getenv(\"temp\") + '\\\\SistRev\\\\'\n",
    "os.makedirs(temp_folder, exist_ok=True)"
   ]
  },
  {
   "cell_type": "markdown",
   "id": "a8ef2dc69ac74e7b",
   "metadata": {
    "collapsed": false
   },
   "source": [
    "## Keywords to search"
   ]
  },
  {
   "cell_type": "code",
   "execution_count": 2,
   "id": "14d7986b7d5a0b6e",
   "metadata": {
    "ExecuteTime": {
     "end_time": "2024-05-02T15:01:16.532374Z",
     "start_time": "2024-05-02T15:01:16.524746Z"
    },
    "collapsed": false
   },
   "outputs": [
    {
     "name": "stdin",
     "output_type": "stream",
     "text": [
      "What are we researching today?  GECAD ISEP\n"
     ]
    }
   ],
   "source": [
    "search = input(\"What are we researching today? \")"
   ]
  },
  {
   "cell_type": "markdown",
   "id": "dc22e63b7af69678",
   "metadata": {
    "collapsed": false
   },
   "source": [
    "## Metadata Scraper"
   ]
  },
  {
   "cell_type": "code",
   "execution_count": 4,
   "id": "2c13c2f1b38daa9a",
   "metadata": {
    "ExecuteTime": {
     "end_time": "2024-05-02T15:02:08.208121Z",
     "start_time": "2024-05-02T15:01:16.536978Z"
    },
    "collapsed": false
   },
   "outputs": [
    {
     "name": "stdout",
     "output_type": "stream",
     "text": [
      "Running headless\n",
      "External IP is 193.136.62.5, which belongs to the range assigned to IPP (193.136.56.0/21)\n",
      "We are on GECAD ISEP (All Fields) – 473 – Web of Science Core Collection\n",
      "Number of articles:  473\n",
      "Downloading the metadata (1 to 1000)...  (DONE)\n"
     ]
    }
   ],
   "source": [
    "from metadataScraper import metadataScraper\n",
    "\n",
    "files = []\n",
    "\n",
    "scraper = metadataScraper(download_path=temp_folder)\n",
    "\n",
    "scraped = scraper.scrape(search)    # returns a list if more than 1000 results found\n",
    "\n",
    "for file in scraped:\n",
    "    files.append(file)\n",
    "    \n",
    "scraper.quit_driver()\n",
    "    "
   ]
  },
  {
   "cell_type": "markdown",
   "id": "729d64051ff4965e",
   "metadata": {
    "collapsed": false
   },
   "source": [
    "## Data Cleaner"
   ]
  },
  {
   "cell_type": "code",
   "execution_count": 5,
   "id": "8f18ef21f95fc014",
   "metadata": {
    "ExecuteTime": {
     "end_time": "2024-05-02T15:02:08.964726Z",
     "start_time": "2024-05-02T15:02:08.213001Z"
    },
    "collapsed": false
   },
   "outputs": [
    {
     "name": "stdout",
     "output_type": "stream",
     "text": [
      "Added all files\n",
      "Total number of articles imported: 473\n"
     ]
    }
   ],
   "source": [
    "from datacleaner import DataCleaner\n",
    "\n",
    "cleaner = DataCleaner()\n",
    "\n",
    "# This will be handled by metadata scraper \n",
    "data_files_path = ['testdata/no-title.ris', 'testdata/artf-intl-wos.ris']\n",
    "\n",
    "for file in files:\n",
    "    cleaner.add_file(file)\n",
    "    \n",
    "print('Added all files')\n",
    "print(f'Total number of articles imported: {cleaner.count_in_entries()}')"
   ]
  },
  {
   "cell_type": "code",
   "execution_count": 10,
   "id": "7822ab8009c6d989",
   "metadata": {
    "ExecuteTime": {
     "end_time": "2024-05-02T15:02:09.013213Z",
     "start_time": "2024-05-02T15:02:08.967780Z"
    },
    "collapsed": false
   },
   "outputs": [
    {
     "name": "stdout",
     "output_type": "stream",
     "text": [
      "Number of duplicated entries: 0\n",
      "Number of entries without title: 0\n",
      "Number of entries without abstract: 7\n",
      "Number of entries without doi: 203\n",
      "Number of entries after cleanup: 263\n"
     ]
    }
   ],
   "source": [
    "n_dup, n_no_title, n_no_abst, n_no_doi = cleaner.clean_entries()\n",
    "clean = cleaner.count_out_entries()\n",
    "\n",
    "print(f'Number of duplicated entries: {n_dup}')\n",
    "print(f'Number of entries without title: {n_no_title}')\n",
    "print(f'Number of entries without abstract: {n_no_abst}')\n",
    "print(f'Number of entries without doi: {n_no_doi}')\n",
    "print(f'Number of entries after cleanup: {clean}')"
   ]
  },
  {
   "cell_type": "code",
   "execution_count": 11,
   "id": "c20aaaf5a214559d",
   "metadata": {
    "collapsed": false,
    "is_executing": true
   },
   "outputs": [
    {
     "data": {
      "text/plain": [
       "<Axes: title={'center': 'Data Split after Cleanup'}>"
      ]
     },
     "execution_count": 11,
     "metadata": {},
     "output_type": "execute_result"
    },
    {
     "data": {
      "image/png": "[encoded data removed]",
      "text/plain": [
       "<Figure size 600x600 with 1 Axes>"
      ]
     },
     "metadata": {},
     "output_type": "display_data"
    }
   ],
   "source": [
    "from pandas import Series\n",
    "\n",
    "datapoints = [clean]\n",
    "index = [f'Clean Data: {clean}']\n",
    "if n_dup > 0:\n",
    "    datapoints.append(n_dup)\n",
    "    index.append(f'Duplicated: {n_dup}')\n",
    "    \n",
    "if n_no_title > 0:\n",
    "    datapoints.append(n_no_title)\n",
    "    index.append(f'No Title: {n_no_title}')\n",
    "    \n",
    "if n_no_abst > 0:\n",
    "    datapoints.append(n_no_abst)\n",
    "    index.append(f'No Abstract: {n_no_abst}')\n",
    "    \n",
    "if n_no_doi > 0:\n",
    "    datapoints.append(n_no_doi)\n",
    "    index.append(f'No DOI: {n_no_doi}')\n",
    "\n",
    "ser = Series(datapoints, index=index)\n",
    "\n",
    "ser.plot(kind='pie', title='Data Split after Cleanup', figsize=(6,6), \n",
    "         fontsize='small', autopct=lambda x: '{:.0f}'.format(x * ser.sum() / 100) if x > 0 else '', \n",
    "         labels=None, legend=True)"
   ]
  },
  {
   "cell_type": "code",
   "execution_count": 12,
   "id": "d59ff3cd900b3260",
   "metadata": {
    "ExecuteTime": {
     "end_time": "2024-05-02T15:02:09.979464Z",
     "start_time": "2024-05-02T15:02:09.918773Z"
    },
    "collapsed": false
   },
   "outputs": [],
   "source": [
    "# Output file\n",
    "cleaner.export_data(path=temp_folder)"
   ]
  },
  {
   "cell_type": "markdown",
   "id": "47d0ccaa68980d4",
   "metadata": {
    "collapsed": false
   },
   "source": [
    "## ASREVIEW"
   ]
  },
  {
   "cell_type": "code",
   "outputs": [],
   "source": [
    "import asreview_interfacer as asr\n",
    "\n",
    "proj = asr.createProject(input(\"What should we name the project?\\nLeave empty for a generated name. \"))\n",
    "\n",
    "interface = asr.launch_interface()\n",
    "\n",
    "input(\"Press ENTER/OK when review is finished to kill the interface. \")"
   ],
   "metadata": {
    "collapsed": false
   },
   "id": "bfcb1c7737ad7685"
  }
 ],
 "metadata": {
  "kernelspec": {
   "display_name": "Python 3 (ipykernel)",
   "language": "python",
   "name": "python3"
  },
  "language_info": {
   "codemirror_mode": {
    "name": "ipython",
    "version": 3
   },
   "file_extension": ".py",
   "mimetype": "text/x-python",
   "name": "python",
   "nbconvert_exporter": "python",
   "pygments_lexer": "ipython3",
   "version": "3.11.9"
  }
 },
 "nbformat": 4,
 "nbformat_minor": 5
}
