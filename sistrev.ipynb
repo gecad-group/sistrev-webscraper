{
 "cells": [
  {
   "cell_type": "markdown",
   "id": "8bb7d66e6c4df561",
   "metadata": {
    "collapsed": false,
    "jupyter": {
     "outputs_hidden": false
    }
   },
   "source": [
    "# Web Scraper for Systematic Reviews"
   ]
  },
  {
   "cell_type": "code",
   "id": "ab085db1d1bcd4f2",
   "metadata": {
    "collapsed": false,
    "jupyter": {
     "outputs_hidden": false
    },
    "ExecuteTime": {
     "end_time": "2024-05-27T12:06:56.110681Z",
     "start_time": "2024-05-27T12:06:56.105989Z"
    }
   },
   "source": [
    "import os\n",
    "\n",
    "temp_folder = os.getenv(\"temp\") + '\\\\SistRev\\\\'\n",
    "os.makedirs(temp_folder, exist_ok=True)"
   ],
   "outputs": [],
   "execution_count": 4
  },
  {
   "cell_type": "markdown",
   "id": "a8ef2dc69ac74e7b",
   "metadata": {
    "collapsed": false,
    "jupyter": {
     "outputs_hidden": false
    }
   },
   "source": [
    "## Keywords to search"
   ]
  },
  {
   "cell_type": "code",
   "id": "14d7986b7d5a0b6e",
   "metadata": {
    "collapsed": false,
    "jupyter": {
     "outputs_hidden": false
    },
    "ExecuteTime": {
     "end_time": "2024-05-27T12:07:04.314179Z",
     "start_time": "2024-05-27T12:06:56.138162Z"
    }
   },
   "source": [
    "search = input(\"What are we researching today? \")"
   ],
   "outputs": [],
   "execution_count": 5
  },
  {
   "cell_type": "markdown",
   "id": "dc22e63b7af69678",
   "metadata": {
    "collapsed": false,
    "jupyter": {
     "outputs_hidden": false
    }
   },
   "source": [
    "## Metadata Scraper"
   ]
  },
  {
   "cell_type": "code",
   "id": "2c13c2f1b38daa9a",
   "metadata": {
    "collapsed": false,
    "jupyter": {
     "outputs_hidden": false
    },
    "ExecuteTime": {
     "end_time": "2024-05-27T12:07:35.449215Z",
     "start_time": "2024-05-27T12:07:04.315398Z"
    }
   },
   "source": [
    "from metadataScraper import metadataScraper\n",
    "\n",
    "files = []\n",
    "\n",
    "scraper = metadataScraper(download_path=temp_folder)\n",
    "\n",
    "scraped = scraper.scrape(search)    # returns a list\n",
    "\n",
    "for file in scraped:\n",
    "    files.append(file)\n",
    "    \n",
    "scraper.quit_driver()\n",
    "    "
   ],
   "outputs": [
    {
     "name": "stdout",
     "output_type": "stream",
     "text": [
      "External IP is 193.136.62.5, which belongs to the range assigned to IPP (193.136.56.0/21)\n",
      "We are on Web Scraping (All Fields) – 1,167 – Web of Science Core Collection\n",
      "Number of articles:  1167\n",
      "Downloading the metadata (1 to 1000)...  (DONE)\n",
      "Downloading the metadata (1001 to 2000)...  (DONE)\n"
     ]
    }
   ],
   "execution_count": 6
  },
  {
   "cell_type": "markdown",
   "id": "729d64051ff4965e",
   "metadata": {
    "collapsed": false,
    "jupyter": {
     "outputs_hidden": false
    }
   },
   "source": [
    "## Data Cleaner"
   ]
  },
  {
   "cell_type": "code",
   "id": "8f18ef21f95fc014",
   "metadata": {
    "collapsed": false,
    "jupyter": {
     "outputs_hidden": false
    },
    "ExecuteTime": {
     "end_time": "2024-05-27T12:07:36.689760Z",
     "start_time": "2024-05-27T12:07:35.450256Z"
    }
   },
   "source": [
    "from datacleaner import DataCleaner\n",
    "\n",
    "cleaner = DataCleaner()\n",
    "\n",
    "# This will be handled by metadata scraper \n",
    "data_files_path = ['testdata/no-title.ris', 'testdata/artf-intl-wos.ris']\n",
    "\n",
    "for file in files:\n",
    "    print(file)\n",
    "    cleaner.add_file(file)\n",
    "    \n",
    "print('Added all files')\n",
    "print(f'Total number of articles imported: {cleaner.count_in_entries()}')"
   ],
   "outputs": [
    {
     "name": "stdout",
     "output_type": "stream",
     "text": [
      "C:\\Users\\rpinh\\AppData\\Local\\Temp\\SistRev\\/web_scraping_1_1000.ris\n",
      "C:\\Users\\rpinh\\AppData\\Local\\Temp\\SistRev\\/web_scraping_1001_2000.ris\n",
      "Added all files\n",
      "Total number of articles imported: 1167\n"
     ]
    }
   ],
   "execution_count": 7
  },
  {
   "cell_type": "code",
   "id": "7822ab8009c6d989",
   "metadata": {
    "collapsed": false,
    "jupyter": {
     "outputs_hidden": false
    },
    "ExecuteTime": {
     "end_time": "2024-05-27T12:07:36.793837Z",
     "start_time": "2024-05-27T12:07:36.696781Z"
    }
   },
   "source": [
    "n_dup, n_no_title, n_no_abst, n_no_doi = cleaner.clean_entries()\n",
    "clean = cleaner.count_out_entries()\n",
    "\n",
    "print(f'Number of duplicated entries: {n_dup}')\n",
    "print(f'Number of entries without title: {n_no_title}')\n",
    "print(f'Number of entries without abstract: {n_no_abst}')\n",
    "print(f'Number of entries without doi: {n_no_doi}')\n",
    "print(f'Number of entries after cleanup: {clean}')"
   ],
   "outputs": [
    {
     "name": "stdout",
     "output_type": "stream",
     "text": [
      "Number of duplicated entries: 1\n",
      "Number of entries without title: 0\n",
      "Number of entries without abstract: 2\n",
      "Number of entries without doi: 163\n",
      "Number of entries after cleanup: 1001\n"
     ]
    }
   ],
   "execution_count": 8
  },
  {
   "cell_type": "code",
   "id": "c20aaaf5a214559d",
   "metadata": {
    "collapsed": false,
    "jupyter": {
     "outputs_hidden": false
    },
    "ExecuteTime": {
     "end_time": "2024-05-27T12:07:37.769052Z",
     "start_time": "2024-05-27T12:07:36.796860Z"
    }
   },
   "source": [
    "from pandas import Series\n",
    "\n",
    "datapoints = [clean]\n",
    "index = [f'Clean Data: {clean}']\n",
    "if n_dup > 0:\n",
    "    datapoints.append(n_dup)\n",
    "    index.append(f'Duplicated: {n_dup}')\n",
    "    \n",
    "if n_no_title > 0:\n",
    "    datapoints.append(n_no_title)\n",
    "    index.append(f'No Title: {n_no_title}')\n",
    "    \n",
    "if n_no_abst > 0:\n",
    "    datapoints.append(n_no_abst)\n",
    "    index.append(f'No Abstract: {n_no_abst}')\n",
    "    \n",
    "if n_no_doi > 0:\n",
    "    datapoints.append(n_no_doi)\n",
    "    index.append(f'No DOI: {n_no_doi}')\n",
    "\n",
    "ser = Series(datapoints, index=index)\n",
    "\n",
    "ser.plot(kind='pie', title='Data Split after Cleanup', figsize=(6,6), \n",
    "         fontsize='small', autopct=lambda x: '{:.0f}'.format(x * ser.sum() / 100) if x > 0 else '', \n",
    "         labels=None, legend=True)"
   ],
   "outputs": [
    {
     "data": {
      "text/plain": [
       "<Axes: title={'center': 'Data Split after Cleanup'}>"
      ]
     },
     "execution_count": 9,
     "metadata": {},
     "output_type": "execute_result"
    },
    {
     "data": {
      "text/plain": [
       "<Figure size 600x600 with 1 Axes>"
      ],
      "image/png": "[encoded data removed]"
     },
     "metadata": {},
     "output_type": "display_data"
    }
   ],
   "execution_count": 9
  },
  {
   "cell_type": "code",
   "id": "d59ff3cd900b3260",
   "metadata": {
    "collapsed": false,
    "jupyter": {
     "outputs_hidden": false
    },
    "ExecuteTime": {
     "end_time": "2024-05-27T12:07:37.943182Z",
     "start_time": "2024-05-27T12:07:37.771089Z"
    }
   },
   "source": [
    "# Output file\n",
    "cleaner.export_data(path=temp_folder)"
   ],
   "outputs": [],
   "execution_count": 10
  },
  {
   "cell_type": "markdown",
   "id": "47d0ccaa68980d4",
   "metadata": {
    "collapsed": false,
    "jupyter": {
     "outputs_hidden": false
    }
   },
   "source": [
    "## ASREVIEW"
   ]
  },
  {
   "cell_type": "code",
   "id": "bfcb1c7737ad7685",
   "metadata": {
    "collapsed": false,
    "jupyter": {
     "outputs_hidden": false
    },
    "ExecuteTime": {
     "end_time": "2024-05-27T12:08:35.652999Z",
     "start_time": "2024-05-27T12:07:37.944189Z"
    }
   },
   "source": [
    "import asreview_interfacer as asr\n",
    "\n",
    "proj = asr.createProject(input(\"What should we name the project?\\nLeave empty for a generated name. \"))\n",
    "\n",
    "proj.add_dataset(f'{temp_folder}/out.ris')\n",
    "\n",
    "interface = asr.launch_interface()\n",
    "\n",
    "input(\"The interface should start in a few seconds.\\nWhen finished, export the data to your preferred format an press ENTER/OK kill the web app (You need to close the browser tab manually). \")\n",
    "\n",
    "interface.kill()"
   ],
   "outputs": [],
   "execution_count": 11
  }
 ],
 "metadata": {
  "kernelspec": {
   "display_name": "Python 3 (ipykernel)",
   "language": "python",
   "name": "python3"
  },
  "language_info": {
   "codemirror_mode": {
    "name": "ipython",
    "version": 3
   },
   "file_extension": ".py",
   "mimetype": "text/x-python",
   "name": "python",
   "nbconvert_exporter": "python",
   "pygments_lexer": "ipython3",
   "version": "3.12.3"
  }
 },
 "nbformat": 4,
 "nbformat_minor": 5
}
