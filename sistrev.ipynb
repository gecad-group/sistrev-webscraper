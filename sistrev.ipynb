{
 "cells": [
  {
   "cell_type": "markdown",
   "id": "8bb7d66e6c4df561",
   "metadata": {
    "collapsed": false,
    "jupyter": {
     "outputs_hidden": false
    }
   },
   "source": [
    "# Web Scraper for Systematic Reviews"
   ]
  },
  {
   "cell_type": "code",
   "execution_count": null,
   "id": "ab085db1d1bcd4f2",
   "metadata": {
    "ExecuteTime": {
     "end_time": "2024-06-11T00:37:31.147689Z",
     "start_time": "2024-06-11T00:37:31.138092Z"
    },
    "collapsed": false,
    "jupyter": {
     "outputs_hidden": false
    }
   },
   "outputs": [],
   "source": [
    "import os\n",
    "\n",
    "temp_folder = os.getenv(\"temp\") if os.name == 'nt' else '/tmp' + '/SistRev/'\n",
    "os.makedirs(temp_folder, exist_ok=True)"
   ]
  },
  {
   "cell_type": "markdown",
   "id": "a8ef2dc69ac74e7b",
   "metadata": {
    "collapsed": false,
    "jupyter": {
     "outputs_hidden": false
    }
   },
   "source": [
    "## Keywords to search"
   ]
  },
  {
   "cell_type": "code",
   "execution_count": null,
   "id": "14d7986b7d5a0b6e",
   "metadata": {
    "ExecuteTime": {
     "end_time": "2024-06-10T21:46:51.655054Z",
     "start_time": "2024-06-10T21:46:44.417873Z"
    },
    "collapsed": false,
    "jupyter": {
     "outputs_hidden": false
    }
   },
   "outputs": [],
   "source": [
    "search = input(\"What are we researching today? \")"
   ]
  },
  {
   "cell_type": "markdown",
   "id": "dc22e63b7af69678",
   "metadata": {
    "collapsed": false,
    "jupyter": {
     "outputs_hidden": false
    }
   },
   "source": [
    "## Metadata Scraper"
   ]
  },
  {
   "cell_type": "code",
   "execution_count": null,
   "id": "2c13c2f1b38daa9a",
   "metadata": {
    "ExecuteTime": {
     "end_time": "2024-06-10T21:47:45.888320Z",
     "start_time": "2024-06-10T21:46:51.656327Z"
    },
    "collapsed": false,
    "jupyter": {
     "outputs_hidden": false
    }
   },
   "outputs": [],
   "source": [
    "from metadataScraper import metadataScraper\n",
    "\n",
    "files = []\n",
    "\n",
    "scraper = metadataScraper(download_path=temp_folder)\n",
    "\n",
    "scraped = scraper.scrape(search)    # returns a list\n",
    "\n",
    "for file in scraped:\n",
    "    files.append(file)\n",
    "    \n",
    "scraper.quit_driver()\n",
    "    "
   ]
  },
  {
   "cell_type": "markdown",
   "id": "729d64051ff4965e",
   "metadata": {
    "collapsed": false,
    "jupyter": {
     "outputs_hidden": false
    }
   },
   "source": [
    "## Data Cleaner"
   ]
  },
  {
   "cell_type": "code",
   "execution_count": null,
   "id": "8f18ef21f95fc014",
   "metadata": {
    "ExecuteTime": {
     "end_time": "2024-06-10T21:47:46.206723Z",
     "start_time": "2024-06-10T21:47:45.889338Z"
    },
    "collapsed": false,
    "jupyter": {
     "outputs_hidden": false
    }
   },
   "outputs": [],
   "source": [
    "from datacleaner import DataCleaner\n",
    "\n",
    "cleaner = DataCleaner()\n",
    "\n",
    "# This will be handled by metadata scraper \n",
    "# data_files_path = ['testdata/testdata.ris', 'testdata/artf-intl-wos.ris']\n",
    "\n",
    "for file in files:\n",
    "    print(file)\n",
    "    cleaner.add_file(file)\n",
    "    \n",
    "print('Added all files')\n",
    "print(f'Total number of articles imported: {cleaner.count_in_entries()}')"
   ]
  },
  {
   "cell_type": "code",
   "execution_count": null,
   "id": "7822ab8009c6d989",
   "metadata": {
    "ExecuteTime": {
     "end_time": "2024-06-10T21:47:46.294824Z",
     "start_time": "2024-06-10T21:47:46.207730Z"
    },
    "collapsed": false,
    "jupyter": {
     "outputs_hidden": false
    }
   },
   "outputs": [],
   "source": [
    "n_dup, n_no_title, n_no_abst, n_no_doi = cleaner.clean_entries()\n",
    "clean = cleaner.count_out_entries()\n",
    "\n",
    "print(f'Number of duplicated entries: {n_dup}')\n",
    "print(f'Number of entries without title: {n_no_title}')\n",
    "print(f'Number of entries without abstract: {n_no_abst}')\n",
    "print(f'Number of entries without doi: {n_no_doi}')\n",
    "print(f'Number of entries after cleanup: {clean}')"
   ]
  },
  {
   "cell_type": "code",
   "execution_count": null,
   "id": "c20aaaf5a214559d",
   "metadata": {
    "ExecuteTime": {
     "end_time": "2024-06-10T21:48:13.774654Z",
     "start_time": "2024-06-10T21:48:13.659724Z"
    },
    "collapsed": false,
    "jupyter": {
     "outputs_hidden": false
    }
   },
   "outputs": [],
   "source": [
    "from pandas import Series\n",
    "\n",
    "datapoints = [clean]\n",
    "index = [f'Clean Data: {clean}']\n",
    "if n_dup > 0:\n",
    "    datapoints.append(n_dup)\n",
    "    index.append(f'Duplicated: {n_dup}')\n",
    "    \n",
    "if n_no_title > 0:\n",
    "    datapoints.append(n_no_title)\n",
    "    index.append(f'No Title: {n_no_title}')\n",
    "    \n",
    "if n_no_abst > 0:\n",
    "    datapoints.append(n_no_abst)\n",
    "    index.append(f'No Abstract: {n_no_abst}')\n",
    "    \n",
    "if n_no_doi > 0:\n",
    "    datapoints.append(n_no_doi)\n",
    "    index.append(f'No DOI: {n_no_doi}')\n",
    "\n",
    "ser = Series(datapoints, index=index)\n",
    "\n",
    "ser.plot(kind='pie', title='Cleanup results', figsize=(6,6), \n",
    "         fontsize='small', autopct=lambda x: '{:.0f}'.format(x * ser.sum() / 100) if x > 0 else '', \n",
    "         labels=None, legend=True)"
   ]
  },
  {
   "cell_type": "code",
   "execution_count": null,
   "id": "d59ff3cd900b3260",
   "metadata": {
    "ExecuteTime": {
     "end_time": "2024-06-10T21:45:09.726193Z",
     "start_time": "2024-06-10T21:45:09.682826Z"
    },
    "collapsed": false,
    "jupyter": {
     "outputs_hidden": false
    }
   },
   "outputs": [],
   "source": [
    "# Output file\n",
    "cleaner.export_data(path=temp_folder)"
   ]
  },
  {
   "cell_type": "markdown",
   "id": "47d0ccaa68980d4",
   "metadata": {
    "collapsed": false,
    "jupyter": {
     "outputs_hidden": false
    }
   },
   "source": [
    "## ASREVIEW"
   ]
  },
  {
   "cell_type": "code",
   "execution_count": null,
   "id": "bfcb1c7737ad7685",
   "metadata": {
    "ExecuteTime": {
     "end_time": "2024-06-10T21:45:19.755831Z",
     "start_time": "2024-06-10T21:45:09.727212Z"
    },
    "collapsed": false,
    "jupyter": {
     "outputs_hidden": false
    }
   },
   "outputs": [],
   "source": [
    "import asreview_interfacer as asr\n",
    "\n",
    "proj = asr.createProject(input(\"What should we name the project?\\nLeave empty for a generated name. \"))\n",
    "\n",
    "proj.add_dataset(f'{temp_folder}/out.ris')\n",
    "\n",
    "interface = asr.launch_interface()\n",
    "\n",
    "print(\"The interface should start in a few seconds...\")\n",
    "print(\"When the review is finished, export the data (relevant) as RIS to use the PDF scraper. Put the exported file on it's own folder. The PDFs are downloaded next to the file.\")\n",
    "input(\"Press ENTER/OK kill the web server (You need to close the browser tab manually). \")\n",
    "\n",
    "interface.kill()"
   ]
  },
  {
   "metadata": {},
   "cell_type": "markdown",
   "source": "## PDF Scraper",
   "id": "a6e407623fc7858f"
  },
  {
   "metadata": {},
   "cell_type": "code",
   "outputs": [],
   "execution_count": null,
   "source": [
    "from pdfscraper import PDFScraper\n",
    "\n",
    "risfile = input(\"Path for the .ris file to import: \").replace('\"', '')\n",
    "\n",
    "failed_downloads, total = PDFScraper.download_from_ris(risfile)\n",
    "\n",
    "print()\n",
    "print(\" Failed downloads \")\n",
    "print(\"------------------\")\n",
    "for doi in failed_downloads:\n",
    "    print(\"https://doi.org/\" + doi)\n",
    "\n",
    "print(\"Total Failed\", len(failed_downloads), \"/\", total )\n",
    "print(\"Try checking the publisher using the addresses above or searching for the DOI in \"\n",
    "      \"https://www.researchgate.net/\")"
   ],
   "id": "5fcbbb279576cfdf"
  }
 ],
 "metadata": {
  "kernelspec": {
   "display_name": "Python 3 (ipykernel)",
   "language": "python",
   "name": "python3"
  },
  "language_info": {
   "codemirror_mode": {
    "name": "ipython",
    "version": 3
   },
   "file_extension": ".py",
   "mimetype": "text/x-python",
   "name": "python",
   "nbconvert_exporter": "python",
   "pygments_lexer": "ipython3",
   "version": "3.10.12"
  }
 },
 "nbformat": 4,
 "nbformat_minor": 5
}
